{
 "cells": [
  {
   "cell_type": "markdown",
   "id": "108cec44",
   "metadata": {},
   "source": [
    "# MAD2502 Capstone: A Comparative Analysis of Data Driven Investment Strategies"
   ]
  },
  {
   "cell_type": "markdown",
   "id": "f8036d20",
   "metadata": {},
   "source": [
    "## Abstract\n",
    "This paper investigates the performance of two data-driven investment strategies, sentiment analysis of news headlines and insider trading, in comparison to a baseline buy-and-hold strategy that invests in the Dow Jones Industrial Average index. The sentiment analysis strategy utilizes a random forest classifier to predict the direction of the DOW based on news headlines, while the insider trading strategy examines the average annual return on investment for insiders. Over a one-year period, the sentiment analysis strategy produced a remarkable 140.74% return on investment, whereas the insider trading strategy suggested an average annual return of 128.76% for insiders. In contrast, the buy-and-hold strategy resulted in a loss of 3.78%. Despite the promising results of both data-driven strategies, further research is needed to validate the sentiment analysis model, explore more computationally efficient algorithms, and develop actionable insider trading strategies based on market patterns and indicators. This study contributes to the literature by comparing the performance and potential of two distinct data-driven investment strategies and provides a foundation for future research in refining and implementing these approaches in real-world investment scenarios.\n"
   ]
  },
  {
   "cell_type": "markdown",
   "id": "6efb5f03",
   "metadata": {},
   "source": [
    "## Introduction\n",
    "Data driven investment strategies have gained popularity in recent years as a way of exploiting market inefficiencies and generating superior returns. However, there is no consensus on which data sources and methods are most effective for this purpose. This paper presents a comparative analysis of two data driven investment strategies and a baseline strategy used as a control. The first strategy is based on predicting the movements of the Dow Jones Industrial Average (DJIA) using sentiment analysis of news headlines. The second strategy is based on analyzing and following trades made by insiders, such as executives and directors of publicly traded companies. The baseline strategy is a buy-and-hold approach that invests in the DJIA index. This paper evaluates the performance of each strategy in terms of return and risk over a period of one year. This paper also discusses the advantages and limitations of each strategy and provides suggestions for future research.\n",
    "\n",
    "The use of sentiment analysis to forecast stock market movements has been widely studied in the literature. Sentiment analysis is the process of extracting and quantifying the opinions, emotions, and attitudes expressed in text data (Liu, 2012). The underlying assumption is that the collective sentiment of investors, as reflected by news headlines, can influence the demand and supply of stocks and thus affect their prices (Tetlock, 2007). Several studies have shown that sentiment analysis can provide useful signals for predicting stock returns, volatility, and trading volume (e.g., Bollen et al. and Mittal et al.).\n",
    "\n",
    "The use of insider trading data to guide investment decisions is based on the idea that insiders have superior information about the future prospects of their firms and act on it before it becomes public (Inci et al., 1998). Insider trading is legal in the US as long as it complies with the rules and regulations of the Securities and Exchange Commission (SEC), which require insiders to report their trades within two business days. Several studies have found that insider trading can predict future stock returns, especially for small firms and for purchases rather than sales (e.g., Jaffe, 1974; Lakonishok and Lee, 2001; Piotroski and Roulstone, 2005).\n",
    "\n",
    "This paper contributes to the literature by comparing two data driven strategies that use different types of information (sentiment vs. insider) and different methods to forecast stock market movements. This paper also compares these strategies with a simple buy-and-hold strategy that serves as a benchmark. To the best of my knowledge, this is the first study that directly compares these two strategies in terms of performance and risk."
   ]
  },
  {
   "cell_type": "markdown",
   "id": "4ce1a2f7",
   "metadata": {},
   "source": [
    "## Methods I - Sentiment Analysis\n",
    "Sentiment analysis was performed using a dataset and a tutorial I found online (Patil, 2021)."
   ]
  },
  {
   "cell_type": "code",
   "execution_count": 3,
   "metadata": {},
   "outputs": [
    {
     "name": "stdout",
     "output_type": "stream",
     "text": [
      "hello\n"
     ]
    }
   ],
   "source": [
    "print('hello')"
   ]
  },
  {
   "cell_type": "code",
   "execution_count": 2,
   "id": "bd2e36b6",
   "metadata": {},
   "outputs": [],
   "source": [
    "import numpy as np\n",
    "import pandas as pd\n",
    "import pickle"
   ]
  },
  {
   "cell_type": "code",
   "execution_count": null,
   "id": "fd799f01",
   "metadata": {},
   "outputs": [],
   "source": [
    "from sklearn.feature_extraction.text import CountVectorizer\n",
    "from sklearn.ensemble import RandomForestClassifier\n",
    "from sklearn.metrics import accuracy_score"
   ]
  },
  {
   "cell_type": "code",
   "execution_count": 3,
   "id": "ff5d188f",
   "metadata": {},
   "outputs": [
    {
     "name": "stdout",
     "output_type": "stream",
     "text": [
      "4101\n"
     ]
    }
   ],
   "source": [
    "# import the data\n",
    "patil_headline_data = pd.read_csv('https://raw.githubusercontent.com/ronylpatil/Stock-Sentiment-Analysis/main/Stock%20News%20Dataset.csv', encoding = \"ISO-8859-1\")\n",
    "\n",
    "print(len(patil_headline_data))\n",
    "\n",
    "# save the new data frame to a csv file\n",
    "patil_headline_data.to_csv('data/headline_data_1.csv', index=False)"
   ]
  },
  {
   "cell_type": "code",
   "execution_count": null,
   "id": "04c0c975",
   "metadata": {},
   "outputs": [
    {
     "name": "stdout",
     "output_type": "stream",
     "text": [
      "The model can predict whether the DOW will increase or decrease with 86.51% accuracy.\n"
     ]
    }
   ],
   "source": [
    "# import the data\n",
    "test_complete = pd.read_csv('data/headline_data_1.csv')\n",
    "\n",
    "# split the data into train and test\n",
    "train = patil_headline_data[patil_headline_data['Date'] < '20150101']\n",
    "test = patil_headline_data[patil_headline_data['Date'] > '20141231']\n",
    "\n",
    "# removing punctuations\n",
    "data = train.iloc[:,2:27]\n",
    "data.replace(\"[^a-zA-Z]\", \" \", regex=True, inplace=True)\n",
    "\n",
    "# renaming column names for ease of access\n",
    "list1= [i for i in range(25)]\n",
    "new_Index=[str(i) for i in list1]\n",
    "data.columns= new_Index\n",
    "\n",
    "# convertng headlines to lower case\n",
    "for index in new_Index:\n",
    "    data[index]=data[index].str.lower()\n",
    "\n",
    "# join all 25 headlines into one big paragraph\n",
    "' '.join(str(x) for x in data.iloc[1,0:25])\n",
    "\n",
    "# save those paragraphs to a list\n",
    "headlines = []\n",
    "for row in range(0,len(data.index)):\n",
    "    headlines.append(' '.join(str(x) for x in data.iloc[row,0:25]))\n",
    "    \n",
    "# implement bag of words\n",
    "countvector=CountVectorizer(ngram_range=(2,2))\n",
    "traindataset=countvector.fit_transform(headlines)\n",
    "\n",
    "# implement random forest classifier\n",
    "randomclassifier=RandomForestClassifier(n_estimators=200,criterion='entropy')\n",
    "randomclassifier.fit(traindataset,train['Label'])\n",
    "\n",
    "# predict for the test dataset\n",
    "test_transform= []\n",
    "for row in range(0,len(test.index)):\n",
    "    test_transform.append(' '.join(str(x) for x in test.iloc[row,2:27]))\n",
    "test_dataset = countvector.transform(test_transform)\n",
    "predictions = randomclassifier.predict(test_dataset)\n",
    "\n",
    "score=accuracy_score(test['Label'],predictions)\n",
    "print(f\"The model can predict whether the DOW will increase or decrease with {round((score * 100),2)}% accuracy.\")"
   ]
  },
  {
   "cell_type": "code",
   "execution_count": null,
   "id": "7fc80b16",
   "metadata": {},
   "outputs": [],
   "source": [
    "import numpy as np\n",
    "import pickle"
   ]
  },
  {
   "cell_type": "code",
   "execution_count": null,
   "id": "8fd09f02",
   "metadata": {},
   "outputs": [],
   "source": [
    "# save the CountVectorizer object to a file\n",
    "with open('models/randomclassifier.pkl', 'wb') as f:\n",
    "    pickle.dump(randomclassifier, f)\n",
    "\n",
    "# save the RandomForestClassifier object to a file\n",
    "with open('models/countvector.pkl', 'wb') as f:\n",
    "    pickle.dump(countvector, f)"
   ]
  },
  {
   "cell_type": "code",
   "execution_count": null,
   "id": "7e0129b5",
   "metadata": {},
   "outputs": [
    {
     "data": {
      "text/plain": [
       "'g:\\\\My Drive\\\\2023 Spring\\\\2 - MAD - Intro Comp Math\\\\Final Paper'"
      ]
     },
     "execution_count": 7,
     "metadata": {},
     "output_type": "execute_result"
    }
   ],
   "source": [
    "import os\n",
    "os.getcwd()"
   ]
  },
  {
   "cell_type": "code",
   "execution_count": null,
   "id": "e35b7441",
   "metadata": {},
   "outputs": [],
   "source": [
    "import yfinance as yf\n",
    "from alpaca.trading.client import TradingClient\n",
    "from alpaca.trading.requests import MarketOrderRequest\n",
    "from alpaca.trading.enums import OrderSide\n",
    "\n",
    "class Alpaca_Trade():\n",
    "    def __init__(self):\n",
    "        # get alpaca api keys\n",
    "        with open('alpaca_api_keys.txt', 'r') as file:\n",
    "            api_keys = file.readlines()\n",
    "\n",
    "        live_api_key = api_keys[0].strip()\n",
    "        live_api_secret = api_keys[1].strip()\n",
    "        paper_api_key = api_keys[2].strip()\n",
    "        paper_api_secret = api_keys[3].strip()\n",
    "\n",
    "        # setup trading client, account, and positions vars\n",
    "        self.trading_client = TradingClient(paper_api_key, paper_api_secret, paper=True)\n",
    "        self.account = self.trading_client.get_account()\n",
    "        self.positions = self.trading_client.get_all_positions()\n",
    "\n",
    "    def get_cash_assets(self):\n",
    "        return float(self.account.cash)\n",
    "\n",
    "    def buy(self, symbol, qty):\n",
    "        # setting parameters for our buy order\n",
    "        market_order_data = MarketOrderRequest(symbol=symbol, qty=qty, side = OrderSide.BUY, time_in_force = 'day')\n",
    "\n",
    "        # submitting the order and then saving the returned object to a text file\n",
    "        market_order = self.trading_client.submit_order(market_order_data)\n",
    "        with open('market_orders.txt', 'a') as f:\n",
    "            f.write('NEW ORDER:\\n')\n",
    "            for property_name, value in market_order:\n",
    "                f.write(f'\"{property_name}\": {value}\\n')\n",
    "\n",
    "        print('order sent')\n",
    "\n",
    "    def buy_all(self, symbol):\n",
    "        # get qty\n",
    "        cash = self.get_cash_assets() * 0.9 # keep 10% in the account for safety\n",
    "        ask_price = yf.Ticker(symbol).info['ask']\n",
    "        qty = cash / ask_price\n",
    "\n",
    "        self.buy(symbol, qty)\n",
    "\n",
    "    def money_in_dow(self):\n",
    "        money_in_dow = False\n",
    "\n",
    "        for position in self.positions:\n",
    "            if position.symbol == 'DIA':\n",
    "                money_in_dow = True\n",
    "\n",
    "        return money_in_dow\n",
    "\n",
    "    def sell(self, symbol, qty):\n",
    "        # setting parameters for our sell order\n",
    "        market_order_data = MarketOrderRequest(symbol=symbol, qty=qty, side = OrderSide.SELL, time_in_force = 'day')\n",
    "\n",
    "        # submitting the order and then saving the returned object to a text file\n",
    "        market_order = self.trading_client.submit_order(market_order_data)\n",
    "        with open('market_orders.txt', 'a') as f:\n",
    "            f.write('NEW ORDER:\\n')\n",
    "            for property_name, value in market_order:\n",
    "                f.write(f'\"{property_name}\": {value}\\n')\n",
    "\n",
    "        print('order sent')\n",
    "\n",
    "    def sell_all(self, symbol):\n",
    "        # get qty\n",
    "        for position in self.positions:\n",
    "            if position.symbol == symbol:\n",
    "                qty = position.qty\n",
    "\n",
    "        self.sell(symbol, qty)\n",
    "\n",
    "alpaca_trade = Alpaca_Trade()"
   ]
  },
  {
   "cell_type": "markdown",
   "id": "33123ada",
   "metadata": {},
   "source": [
    "The tutorial never mentions what news outlet the headlines are from. At first I worried that running the model on current headlines from a different news source would negatively impact effectiveness. However a quick google search for a couple headlines from the dataset proved very informative; all the headlines are from The Guardian. We can use this information in conjunction with a web scraper to predict whether the dow will increase or decrease today."
   ]
  },
  {
   "cell_type": "code",
   "execution_count": null,
   "id": "cc760167",
   "metadata": {},
   "outputs": [],
   "source": [
    "import requests\n",
    "from bs4 import BeautifulSoup\n",
    "import re"
   ]
  },
  {
   "cell_type": "code",
   "execution_count": null,
   "id": "bb2d7927",
   "metadata": {},
   "outputs": [
    {
     "name": "stdout",
     "output_type": "stream",
     "text": [
      "↑ The Dow Jones Industrial Average is forcasted to increase today.\n"
     ]
    }
   ],
   "source": [
    "def get_top_25_headlines():\n",
    "    url = 'https://www.theguardian.com/'\n",
    "    response = requests.get(url)\n",
    "    \n",
    "    if response.status_code == 200:\n",
    "        soup = BeautifulSoup(response.content, 'html.parser')\n",
    "        headlines = soup.find_all('a', class_='u-faux-block-link__overlay')\n",
    "\n",
    "        top_25_headlines = []\n",
    "        for i, headline in enumerate(headlines):\n",
    "            if i < 25:\n",
    "                top_25_headlines.append(headline.get_text(strip=True))\n",
    "            else:\n",
    "                break\n",
    "\n",
    "        return top_25_headlines\n",
    "    else:\n",
    "        print(f\"Error: {response.status_code}\")\n",
    "        return []\n",
    "\n",
    "top_25_headlines = get_top_25_headlines()\n",
    "\n",
    "todays_headlines = \"\"\n",
    "\n",
    "for i, headline in enumerate(top_25_headlines):\n",
    "    todays_headlines += headline\n",
    "    todays_headlines += \" \"\n",
    "\n",
    "# removing punctuations and make lower case\n",
    "todays_headlines = re.sub(r'[^a-zA-Z]', ' ', todays_headlines)\n",
    "todays_headlines = todays_headlines.lower()\n",
    "\n",
    "# run the model\n",
    "string_transform = countvector.transform([todays_headlines])\n",
    "prediction = randomclassifier.predict(string_transform)\n",
    "if (prediction):\n",
    "    print(\"↑ The Dow Jones Industrial Average is forcasted to increase today.\")\n",
    "else:\n",
    "    print(\"↓ The Dow Jones Industrial Average is forcasted to stay the same or decrease today.\")"
   ]
  },
  {
   "cell_type": "markdown",
   "id": "6e8cd936",
   "metadata": {},
   "source": [
    "I wanted to improve upon this algorithm by replacing the ‘Label’ column (currently a boolean value representing whether or not the DOW increased that day) with a percentage value showing how much the DOW increased. Then the model would be able to predict by how much the DOW would increase or decrease instead of just giving a binary value. So, I wrote the following code to add the percentage change in the DOW to the data frame."
   ]
  },
  {
   "cell_type": "code",
   "execution_count": null,
   "id": "1ce3056b",
   "metadata": {},
   "outputs": [],
   "source": [
    "import yfinance as yf\n",
    "from tqdm import tqdm"
   ]
  },
  {
   "cell_type": "code",
   "execution_count": null,
   "id": "dc003ed5",
   "metadata": {},
   "outputs": [
    {
     "name": "stderr",
     "output_type": "stream",
     "text": [
      "100%|██████████████████████████████████████████████████████████████████████████████| 4101/4101 [13:28<00:00,  5.07it/s]\n"
     ]
    }
   ],
   "source": [
    "def get_dji_change_percentage(date_str):\n",
    "    # convert date string to NumPy datetime object\n",
    "    date = np.datetime64(date_str)\n",
    "    date = date + np.timedelta64(1, 'D')\n",
    "    \n",
    "    # calculate previous trading day\n",
    "    prev_date = date - np.timedelta64(1, 'D')\n",
    "    \n",
    "    # fetch DJI data\n",
    "    dji = yf.Ticker('^DJI')\n",
    "    data = dji.history(start=prev_date.astype('datetime64[D]').astype(str),\n",
    "                       end=date.astype('datetime64[D]').astype(str))\n",
    "\n",
    "    dji_open = data['Open'][0]\n",
    "    dji_close = data['Close'][0]\n",
    "    percentage_change = ((dji_close - dji_open) / dji_open) * 100\n",
    "    \n",
    "    return percentage_change\n",
    "\n",
    "# create an empty list to store the results\n",
    "dji_change_percentages = []\n",
    "\n",
    "# get the total number of rows in the data frame\n",
    "total_rows = len(patil_headline_data)\n",
    "\n",
    "# iterate over the rows in the data frame and display a progress bar\n",
    "for index, row in tqdm(patil_headline_data.iterrows(), total=total_rows):\n",
    "    # get the date value from the 'date' column\n",
    "    date = row['Date']\n",
    "    \n",
    "    # call the 'get_dji_change_percentage()' function with the date argument\n",
    "    dji_change_percentage = get_dji_change_percentage(date)\n",
    "    \n",
    "    # append the result to the list of percentages\n",
    "    dji_change_percentages.append(dji_change_percentage)\n",
    "    \n",
    "# add the list of percentages as a new column in the data frame\n",
    "patil_headline_data['dji_change_percentage'] = dji_change_percentages\n",
    "\n",
    "# save the new data frame to a csv file\n",
    "patil_headline_data.to_csv('data/headline_data_2.csv', index=False)"
   ]
  },
  {
   "cell_type": "code",
   "execution_count": null,
   "id": "7ac10165",
   "metadata": {},
   "outputs": [],
   "source": [
    "%%capture\n",
    "'''\n",
    "from sklearn.ensemble import RandomForestRegressor\n",
    "\n",
    "# do everything from import the data to implement bag of words as shown above\n",
    "\n",
    "# implement random forest regressor\n",
    "randomregressor=RandomForestRegressor(n_estimators=200,criterion='squared_error')\n",
    "randomregressor.fit(traindataset,train['dji_change_percentage'])\n",
    "'''"
   ]
  },
  {
   "cell_type": "markdown",
   "id": "b2b231b7",
   "metadata": {},
   "source": [
    "The only other change necessary would be replacing random forest classifier with random forest regressor (code commented out above). However, I quickly realized that random forest regressor is far too computationally expensive for me to run on my home computer, so I had to give up on this line of inquiry. Luckily, all this work was not for nothing. I ended up needing the dji_change_percentage column for my simulation (shown below)."
   ]
  },
  {
   "cell_type": "markdown",
   "id": "d7a6fa99",
   "metadata": {},
   "source": [
    "__Simulate a Year of Trading Using the Model__"
   ]
  },
  {
   "cell_type": "code",
   "execution_count": null,
   "id": "93e1c7f3",
   "metadata": {},
   "outputs": [],
   "source": [
    "# import the updated data\n",
    "updated_patil_headline_data = pd.read_csv('data/headline_data_2.csv', encoding = \"ISO-8859-1\")\n",
    "\n",
    "# split the updated data into train and test\n",
    "train = updated_patil_headline_data[updated_patil_headline_data['Date'] < '20150101']\n",
    "test = updated_patil_headline_data[updated_patil_headline_data['Date'] > '20141231']\n",
    "\n",
    "# do all the same preprocessing on the test dataset and save it to the data frame\n",
    "\n",
    "# removing punctuations\n",
    "test_data = test.iloc[:,2:27]\n",
    "test_data.replace(\"[^a-zA-Z]\", \" \", regex=True, inplace=True)\n",
    "\n",
    "# renaming column names for ease of access\n",
    "list1= [i for i in range(25)]\n",
    "new_Index=[str(i) for i in list1]\n",
    "test_data.columns= new_Index\n",
    "\n",
    "# convertng headlines to lower case\n",
    "for index in new_Index:\n",
    "    test_data[index]=test_data[index].str.lower()\n",
    "\n",
    "# join all 25 headlines into one big paragraph\n",
    "' '.join(str(x) for x in test_data.iloc[1,0:25])\n",
    "\n",
    "# save those paragraphs to a list\n",
    "test_headlines = []\n",
    "for row in range(0,len(test_data.index)):\n",
    "    test_headlines.append(' '.join(str(x) for x in test_data.iloc[row,0:25]))\n",
    "    \n",
    "# recreate the test portion of the data frame\n",
    "test_complete = updated_patil_headline_data[updated_patil_headline_data['Date'] > '20141231']\n",
    "test_complete = test_complete.copy()\n",
    "\n",
    "# add the concatenated headlines\n",
    "test_complete['concated_headlines'] = test_headlines"
   ]
  },
  {
   "cell_type": "code",
   "execution_count": null,
   "id": "2d7e0891",
   "metadata": {},
   "outputs": [
    {
     "name": "stderr",
     "output_type": "stream",
     "text": [
      "100%|████████████████████████████████████████████████████████████████████████████████| 378/378 [02:54<00:00,  2.17it/s]\n"
     ]
    }
   ],
   "source": [
    "# make a predictions for each row of the test data set\n",
    "model_predictions = []\n",
    "for index, row in tqdm(test_complete.iterrows(), total=test_complete.shape[0]):\n",
    "    string_transform = countvector.transform([row['concated_headlines']])\n",
    "    prediction = randomclassifier.predict(string_transform)\n",
    "    model_predictions.append(prediction)\n",
    "model_predictions = [int(pred[0]) for pred in model_predictions]"
   ]
  },
  {
   "cell_type": "code",
   "execution_count": null,
   "id": "ea069aab",
   "metadata": {},
   "outputs": [
    {
     "name": "stdout",
     "output_type": "stream",
     "text": [
      "0.8609625668449198\n"
     ]
    }
   ],
   "source": [
    "# add the predictions\n",
    "test_complete['model_preds'] = model_predictions\n",
    "\n",
    "# drop all the rows in the data frame where the Label and dji_change_percentage disagree\n",
    "test_complete.drop(test_complete[(test_complete['dji_change_percentage'] <= 0) & (test_complete['Label'] == True)].index, inplace=True)\n",
    "\n",
    "# check that the number of correct predictions aligns with the accuracy of the model computed earlier (~ 84%)\n",
    "comparison_column = np.where(test_complete['Label'] == test_complete['model_preds'], True, False)\n",
    "print(sum(comparison_column)/len(comparison_column))\n",
    "\n",
    "# convert the Label and model_preds cols to bools\n",
    "test_complete['Label'] = test_complete['Label'].astype(bool)\n",
    "test_complete['model_preds'] = test_complete['model_preds'].astype(bool)"
   ]
  },
  {
   "cell_type": "code",
   "execution_count": null,
   "id": "fc635330",
   "metadata": {},
   "outputs": [],
   "source": [
    "# saveing the processed data to a csv file so I don't have to re-run all of the code above\n",
    "test_complete.to_csv(\"data/headline_data_3.csv\")"
   ]
  },
  {
   "cell_type": "markdown",
   "id": "aa059dfd",
   "metadata": {},
   "source": [
    "According to an article on Business Insider, Robinhood customers pay two types of fees when they make sales: a regulatory trading fee and a trading activity fee. The regulatory trading fee is \\\\$5.10 per \\\\$1 million of principal (principal just means the amount of money made on the sale), rounded up to the nearest penny, and excludes sales of up to \\\\$500. The trading activity fee varies is \\\\$0.000119 to \\\\$0.00013 per share for equity sells, rounded up to the nearest penny and capped at \\\\$5.95 to \\\\$6.49 per order. Robinhood only passes this fee to customers who sell more than 50 shares or contracts (Porter, 2022). Robinhood doesn’t charge any commission fees (Mitra, 2021). Because we are trading on such a small amount of money we can ignore trading activity fees."
   ]
  },
  {
   "cell_type": "code",
   "execution_count": null,
   "id": "e9d052f2",
   "metadata": {},
   "outputs": [],
   "source": [
    "import math"
   ]
  },
  {
   "cell_type": "code",
   "execution_count": null,
   "id": "9b89f006",
   "metadata": {},
   "outputs": [
    {
     "name": "stdout",
     "output_type": "stream",
     "text": [
      "During the simulation 132 transactions were made incurring a total of $0.82 in fees.\n",
      "After one year the model turned $1,000 into $2,408.66.\n",
      "That's a 140.87% return on investment!\n"
     ]
    }
   ],
   "source": [
    "# import the processed data\n",
    "test_complete = pd.read_csv('data/headline_data_3.csv')\n",
    "\n",
    "# simulate trading using the test_complete data frame\n",
    "starting_cash = 1000\n",
    "cash_assets = starting_cash\n",
    "DOW_assets = 0\n",
    "transaction_count = 0\n",
    "transaction_fees_total = 0\n",
    "for _, row in test_complete.iterrows():\n",
    "    # end the simulation after approximately 1 year\n",
    "    # actually 1 year and 2 days because the data starts on 2015-01-02 but there isn't data for 2016-01-02 or 2016-01-03\n",
    "    if row['Date'] == '2016-01-04':\n",
    "        break\n",
    "    \n",
    "    # if you have your money in cash and the model predicts the DOW will increase then buy stock\n",
    "    if row['model_preds'] and cash_assets > 0:\n",
    "        # buy stock in the DOW\n",
    "        transaction_count += 1\n",
    "        DOW_assets = cash_assets\n",
    "        cash_assets = 0\n",
    "        \n",
    "    # if you have moeny in stock and the model predicts the DOW will increase then leave your money in stock\n",
    "        # do nothing\n",
    "    \n",
    "    # if you have your money in cash and the model predicts the DOW will decrease then leave your money in cash\n",
    "        # do nothing\n",
    "    \n",
    "    # if you have moeny in stock and the model predicts the DOW will decrease then sell stock\n",
    "    elif not row['model_preds'] and DOW_assets > 0:\n",
    "        # sell stock in the DOW\n",
    "        transaction_count += 1\n",
    "        cash_assets = DOW_assets\n",
    "        DOW_assets = 0\n",
    "        \n",
    "        transaction_fees = (cash_assets / 1_000_000) * 5.10\n",
    "        transaction_fees = math.ceil(transaction_fees * 100) / 100 # nearest penny rounded up\n",
    "        cash_assets -= transaction_fees\n",
    "        transaction_fees_total += transaction_fees\n",
    "        \n",
    "    # increase or decrease DOW assets based on dji_change_percentage\n",
    "    DOW_assets *= 1 + (row['dji_change_percentage'] / 100)\n",
    "    \n",
    "# sell DOW_assets for final cash evaluation\n",
    "if DOW_assets > 0:\n",
    "    cash_assets = DOW_assets\n",
    "    DOW_assets = 0\n",
    "    transaction_count += 1\n",
    "    \n",
    "    transaction_fees = (cash_assets / 1_000_000) * 5.10\n",
    "    transaction_fees = math.ceil(transaction_fees * 100) / 100 # nearest penny rounded up\n",
    "    cash_assets -= transaction_fees\n",
    "    transaction_fees_total += transaction_fees\n",
    "\n",
    "print(f'During the simulation {transaction_count} transactions were made incurring a total of ${transaction_fees_total:,.2f} in fees.')\n",
    "print(f'After one year the model turned ${starting_cash:,} into ${cash_assets:,.2f}.')\n",
    "print(f'That\\'s a {(cash_assets - starting_cash) / starting_cash * 100:.2f}% return on investment!')"
   ]
  },
  {
   "cell_type": "markdown",
   "id": "8624e56b",
   "metadata": {},
   "source": [
    "## Results I - Sentiment Analysis\n",
    "The results from news headline sentiment analysis were very promising with a prediction score of 87%. Because the DOW doesn't increase by a particularly large percentage on any given day, I initially thought, making any money on this algorithm would require a large capital investment. During my presentation one of my classmates brought up options trading as a way to gain higher returns. Options trading is a financial strategy that involves purchasing the right, but not the obligation, to buy or sell an underlying asset, such as a stock, at a specified price within a set timeframe. This allows traders to profit from the price movements of the underlying asset, without actually owning it.\n",
    "\n",
    "In the context of the Dow Jones Industrial Average (the DOW), a trader could use options to speculate on the direction of its movement. For instance, if they anticipate the DOW will rise, they could buy call options that give them the right to buy the index at a predetermined price, even if its market value surpasses that price. Conversely, if they predict a decline in the DOW, they could purchase put options that enable them to sell the index at a specific price, regardless of its current value.\n",
    "\n",
    "To maximize the effectiveness of this strategy, the model would need to be able to predict by how much the Dow would increase or decrease. While this is technically possible, using random forest regressor, it is far too computationally expensive for me to train the random forest regressor on my home computer. Computation time could be accelerated using the cuML library in place of scikit learn. This would move the computations from the CPU to the GPU, greatly increasing speed and efficiency. Further research using cuML and a sufficiently powerful GPU could help determine whether the use of a random forest regressor is a viable option for predicting the fluctuations in the Dow. Additionally, it may be worth exploring other machine learning algorithms that are computationally less expensive, such as linear regression or ARIMA models.\n",
    "\n",
    "Using the simpler random forest classifier based model, the results of the trading simulation are impressive. After one year, the model was able to turn an initial investment of \\\\$1,000 into \\\\$2,407.38, resulting in a remarkable 140.74\\% return on investment. These results are undoubtedly impressive and warrant further examination. Given the model's incredibly high return on investment I am skeptical of its truthfulness, although looking back over my code I don’t believe I made any errors. It would be of great interest to see if this data stands up to rigorous peer review, as this could validate the efficacy of the model."
   ]
  },
  {
   "cell_type": "markdown",
   "id": "702f711d",
   "metadata": {},
   "source": [
    "## Methods II - Insider Information\n",
    "I scraped 10 years worth of data from http://www.openinsider.com/ using code I found on GitHub (sd3v, 2023)."
   ]
  },
  {
   "cell_type": "code",
   "execution_count": null,
   "id": "7543a94c",
   "metadata": {},
   "outputs": [],
   "source": [
    "import csv\n",
    "from concurrent.futures import ThreadPoolExecutor\n",
    "import logging\n",
    "from datetime import datetime, timedelta"
   ]
  },
  {
   "cell_type": "code",
   "execution_count": null,
   "id": "b7c97b38",
   "metadata": {
    "scrolled": true
   },
   "outputs": [],
   "source": [
    "# open insider scraper\n",
    "def get_data_for_month(year, month):\n",
    "    # Create a logger instance with the name \"my_logger\"\n",
    "    my_logger = logging.getLogger(\"my_logger\")\n",
    "\n",
    "    # Set the log level to INFO (other options: WARNING, ERROR, etc.)\n",
    "    my_logger.setLevel(logging.WARNING)\n",
    "\n",
    "    # Create a FileHandler to write the messages to a file\n",
    "    file_handler = logging.FileHandler(\"logs.txt\")\n",
    "\n",
    "    # Set the log level for the FileHandler to INFO\n",
    "    file_handler.setLevel(logging.WARNING)\n",
    "\n",
    "    # Add the FileHandler to the logger instance\n",
    "    my_logger.addHandler(file_handler)\n",
    "\n",
    "    # Set the start date and end date for the given month\n",
    "    start_date = datetime(year, month, 1).strftime('%m/%d/%Y')\n",
    "    end_date = (datetime(year, month, 1) + timedelta(days=32)).replace(day=1) - timedelta(days=1)\n",
    "    end_date = end_date.strftime('%m/%d/%Y')\n",
    "\n",
    "    # Print which month is currently being processed\n",
    "    print(f\"processing month: {month}-{year}\")\n",
    "\n",
    "    # Initialize an empty set to store the data for the month\n",
    "    data = set()\n",
    "\n",
    "    # Make a request to the website\n",
    "    url = f'http://openinsider.com/screener?s=&o=&pl=&ph=&ll=&lh=&fd=-1&fdr={start_date}+-+{end_date}&td=0&tdr=&fdlyl=&fdlyh=&daysago=&xp=1&xs=1&vl=&vh=&ocl=&och=&sic1=-1&sicl=100&sich=9999&grp=0&nfl=&nfh=&nil=&nih=&nol=&noh=&v2l=&v2h=&oc2l=&oc2h=&sortcol=0&cnt=5000&page=1'\n",
    "    response = requests.get(url)\n",
    "\n",
    "    # Parse the HTML response\n",
    "    soup = BeautifulSoup(response.text, 'html.parser')\n",
    "\n",
    "    # Find all the rows in the table on the website\n",
    "    try:\n",
    "        rows = soup.find('table', {'class': 'tinytable'}).find('tbody').findAll('tr')\n",
    "    except:\n",
    "        print(\"Error! Skipping\")\n",
    "        # If there is an error, log which URL failed for further research and skip to the next page\n",
    "        my_logger.error(\"This URL was not successful: {}\".format(url))\n",
    "        return\n",
    "    \n",
    "    # Loop through each row and extract the insider transaction data\n",
    "    for row in rows:\n",
    "        if not row.findAll('td'):\n",
    "            continue\n",
    "        insider_data = {}\n",
    "        insider_data['transaction_date'] = row.findAll('td')[1].find('a').text.strip()\n",
    "        insider_data['trade_date'] = row.findAll('td')[2].text.strip()\n",
    "        insider_data['ticker'] = row.findAll('td')[3].find('a').text.strip()\n",
    "        insider_data['company_name'] = row.findAll('td')[4].find('a').text.strip()\n",
    "        insider_data['owner_name'] = row.findAll('td')[5].find('a').text.strip()\n",
    "        insider_data['Title'] = row.findAll('td')[6].text.strip()\n",
    "        insider_data['transaction_type'] = row.findAll('td')[7].text.strip()\n",
    "        insider_data['last_price'] = row.findAll('td')[8].text.strip()\n",
    "        insider_data['Qty'] = row.findAll('td')[9].text.strip()\n",
    "        insider_data['shares_held'] = row.findAll('td')[10].text.strip()\n",
    "        insider_data['Owned'] = row.findAll('td')[11].text.strip()\n",
    "        insider_data['Value'] = row.findAll('td')[12].text.strip()\n",
    "        # Add the Data to the Stack\n",
    "        data.add(tuple(insider_data.values()))\n",
    "    return data\n",
    "\n",
    "def get_openinsider_data():\n",
    "    # go through all dates\n",
    "    with ThreadPoolExecutor(max_workers=10) as executor:\n",
    "        all_data = []\n",
    "        current_year = datetime.now().year\n",
    "        current_month = datetime.now().month\n",
    "        # iterate through years and months\n",
    "        for year in range(2013, current_year + 1):\n",
    "            start_month = 1\n",
    "            end_month = 12\n",
    "            # set start and end month for first and last year\n",
    "            if year == 2013:\n",
    "                start_month = 3\n",
    "            if year == current_year:\n",
    "                end_month = current_month\n",
    "            for month in range(start_month, end_month + 1):\n",
    "                # get data for month with multi-threading\n",
    "                futures = [executor.submit(get_data_for_month, year, month)]\n",
    "                for future in futures:\n",
    "                    all_data.extend(future.result())\n",
    "                print(f\"Done with {month}-{year}\")\n",
    "\n",
    "        # set field names for CSV file\n",
    "        field_names = ['transaction_date','trade_date', 'ticker', 'company_name', 'owner_name', 'Title' ,'transaction_type', 'last_price', 'Qty', 'shares_held', 'Owned', 'Value']\n",
    "\n",
    "        # Open a CSV file for writing\n",
    "        with open('data/openinsider_raw_data.csv', 'w', newline='') as f:\n",
    "            print(\"writing\")\n",
    "            writer = csv.writer(f)\n",
    "\n",
    "            # Write the column names in the first line of the CSV file\n",
    "            writer.writerow(field_names)\n",
    "\n",
    "            # Write the values of each transaction to the CSV file\n",
    "            for transaction in all_data:\n",
    "                writer.writerow(transaction)\n",
    "                \n",
    "get_openinsider_data()\n",
    "print(\"Completed Process.\")"
   ]
  },
  {
   "cell_type": "markdown",
   "id": "348c3b4d",
   "metadata": {},
   "source": [
    "To calculate the profit of insider trading, you need to know the purchase price and the sale price of each transaction. The records obtained using the web scraper have only show the dates and volumes of trades, not the prices. Therefore, I need to massage the data to match each purchase with a sale."
   ]
  },
  {
   "cell_type": "code",
   "execution_count": null,
   "id": "01089a40",
   "metadata": {},
   "outputs": [],
   "source": [
    "# import scraped data\n",
    "df = pd.read_csv(\"data/openinsider_raw_data.csv\")\n",
    "\n",
    "# make all the cols the right type\n",
    "df[\"transaction_date\"] = pd.to_datetime(df[\"transaction_date\"])\n",
    "df[\"trade_date\"] = pd.to_datetime(df[\"trade_date\"])\n",
    "df[\"ticker\"] = df[\"ticker\"].astype(str)\n",
    "df[\"company_name\"] = df[\"company_name\"].astype(str)\n",
    "df[\"owner_name\"] = df[\"owner_name\"].astype(\"category\")\n",
    "df[\"Title\"] = df[\"Title\"].astype(\"category\")\n",
    "df[\"transaction_type\"] = df[\"transaction_type\"].astype(\"category\")\n",
    "df[\"last_price\"] = df[\"last_price\"].replace('[,\\$]', '', regex=True).astype(float)\n",
    "df[\"Qty\"] = df[\"Qty\"].replace(',', '', regex=True).astype(float)\n",
    "df[\"shares_held\"] = df[\"shares_held\"].replace(',', '', regex=True).astype(float)\n",
    "df = df[df[\"Owned\"] != \"New\"]\n",
    "df[\"Owned\"] = df[\"Owned\"].replace('[,\\%>]', '', regex=True).astype(float)\n",
    "df[\"Value\"] = df[\"Value\"].replace('[,\\$]', '', regex=True).astype(float)\n",
    "\n",
    "# merge Sale and Sale+OE\n",
    "# Sale+OE stands for Sale + Option Exchange and it's just a fancy type of sale. so, it's ok to merge it with Sale\n",
    "df[\"transaction_type\"] = df[\"transaction_type\"].replace({\"S - Sale+OE\": \"S - Sale\"})"
   ]
  },
  {
   "cell_type": "code",
   "execution_count": null,
   "id": "13cb2ea7",
   "metadata": {},
   "outputs": [
    {
     "name": "stderr",
     "output_type": "stream",
     "text": [
      "100%|████████████████████████████████████████████████████████████████████████| 508148/508148 [01:04<00:00, 7892.63it/s]\n",
      "100%|████████████████████████████████████████████████████████████████████████| 508148/508148 [00:56<00:00, 8989.38it/s]\n"
     ]
    }
   ],
   "source": [
    "# make df_S (S - Sales)\n",
    "# create an empty dictionary to store purchase information\n",
    "purchase_dict = {}\n",
    "\n",
    "# if the transaction type is a Purchase, add it to the purchase_dict\n",
    "for index, row in tqdm(df.iterrows(), total=len(df)):\n",
    "    if row['transaction_type'] == 'P - Purchase':\n",
    "        purchase_key = (row['ticker'], row['owner_name'])\n",
    "        purchase_dict[purchase_key] = row['transaction_date']\n",
    "        \n",
    "# adds the purchase_date col\n",
    "for index, row in tqdm(df.iterrows(), total=len(df)): # iterate through each row in the data frame\n",
    "    \n",
    "    # if the transaction type is a Sale\n",
    "    if row['transaction_type'] == 'S - Sale':\n",
    "        \n",
    "        # look for a matching purchase in the purchase_dict\n",
    "        purchase_key = (row['ticker'], row['owner_name'])\n",
    "        if purchase_key in purchase_dict:\n",
    "            purchase_date = purchase_dict[purchase_key]\n",
    "\n",
    "            # check if the purchase date is before the sell date\n",
    "            if purchase_date < row['transaction_date']:\n",
    "                df.at[index, 'purchase_date'] = purchase_date\n",
    "        \n",
    "        # if there is no matching purchase, set the purchase date to None\n",
    "        else:\n",
    "            df.at[index, 'purchase_date'] = None\n",
    "\n",
    "# make purchase_date have the data type date\n",
    "df[\"purchase_date\"] = pd.to_datetime(df[\"purchase_date\"])\n",
    "\n",
    "# removes any rows w/out a purchase_date\n",
    "df_S = df.dropna(subset=['purchase_date'])"
   ]
  },
  {
   "cell_type": "code",
   "execution_count": null,
   "id": "b387e66a",
   "metadata": {},
   "outputs": [
    {
     "name": "stderr",
     "output_type": "stream",
     "text": [
      "100%|███████████████████████████████████████████████████████████████████████████| 30279/30279 [01:51<00:00, 270.83it/s]\n"
     ]
    }
   ],
   "source": [
    "# make df_P (P - Purchase)\n",
    "# create an empty list to store the results\n",
    "results = []\n",
    "\n",
    "# use a for loop to iterate through each row in df_S\n",
    "for index, row in tqdm(df_S.iterrows(), total=len(df_S)):\n",
    "    \n",
    "    # extract the purchase date for this row\n",
    "    purchase_date = row['purchase_date']\n",
    "    \n",
    "    # filter df using the transaction date and transaction type conditions\n",
    "    filtered_df = df.loc[(df['transaction_date'] == pd.to_datetime(purchase_date)) & (df['transaction_type'] == 'P - Purchase')]\n",
    "    \n",
    "    # append the resulting rows to the results list\n",
    "    results.append(filtered_df)\n",
    "\n",
    "# concatenate the results into a single data frame\n",
    "df_P = pd.concat(results, ignore_index=True)"
   ]
  },
  {
   "cell_type": "code",
   "execution_count": null,
   "id": "a2a7dfa3",
   "metadata": {},
   "outputs": [],
   "source": [
    "# merge df_S and df_P\n",
    "merged_df = pd.merge(df_S, df_P, left_on='purchase_date', right_on='transaction_date')\n",
    "merged_df = merged_df.drop_duplicates()\n",
    "\n",
    "merged_df = merged_df.rename(columns={\n",
    "    'transaction_date_x': 'sell_date',\n",
    "    'ticker_x': 'ticker', \n",
    "    'company_name_x': 'company_name_atos', # atos stands for at time of sale\n",
    "    'owner_name_x': 'owner_name', \n",
    "    'Title_x': 'title_atos',\n",
    "    'last_price_x': 'sale_price', \n",
    "    'Qty_x': 'shared_sold',\n",
    "    'shares_held_x': 'shares_held_atos',\n",
    "    'Owned_x': 'percent_owned_atos', \n",
    "    'Value_x': 'value_of_sale',\n",
    "    'purchase_date_x': 'purchase_date',\n",
    "    'company_name_y': 'company_name_atop', # atop stands for at time of purchase\n",
    "    'Title_y': 'title_atop', \n",
    "    'last_price_y': 'purchase_price', \n",
    "    'Qty_y': 'shared_purchased', \n",
    "    'shares_held_y': 'shares_held_atop', \n",
    "    'Owned_y': 'percent_owned_atop',\n",
    "    'Value_y': 'value_of_purchase',\n",
    "})\n",
    "\n",
    "merged_df = merged_df.drop(columns=['trade_date_x', 'transaction_type_x', 'transaction_date_y', 'trade_date_y', 'ticker_y', 'owner_name_y', 'transaction_type_y', 'purchase_date_y'])"
   ]
  },
  {
   "cell_type": "markdown",
   "id": "2b9b9598",
   "metadata": {},
   "source": [
    "You’ll notice that there are 8 corresponding variables: 4 ATOS (at time of sale) and 4 ATOS (at time of purchase). The following code checks to see if they have the same value."
   ]
  },
  {
   "cell_type": "code",
   "execution_count": null,
   "id": "3012f85d",
   "metadata": {},
   "outputs": [
    {
     "name": "stdout",
     "output_type": "stream",
     "text": [
      "company_name\n",
      "1611 rows differ\n",
      "\n",
      "title\n",
      "7438 rows differ\n",
      "\n",
      "shares_held\n",
      "29844 rows differ\n",
      "\n",
      "percent_owned\n",
      "28977 rows differ\n",
      "\n"
     ]
    }
   ],
   "source": [
    "# check if two columns (atop and atos) have the same value\n",
    "def check_cols(var):\n",
    "    print(var)\n",
    "    str1 = var + \"_atos\"\n",
    "    str2 = var + \"_atop\"\n",
    "    if (merged_df[str1] == merged_df[str2]).all():\n",
    "        print('The two columns have the same value')\n",
    "    else:\n",
    "        # Find where the two columns differ\n",
    "        diff_mask = merged_df[str1] != merged_df[str2]\n",
    "\n",
    "        # Subset the data frame to show only the differing rows\n",
    "        diff_df = merged_df[diff_mask]\n",
    "\n",
    "        # Print the differing rows\n",
    "        print(f\"{np.shape(diff_df)[0]} rows differ\")\n",
    "        print()\n",
    "\n",
    "check_cols(\"company_name\")\n",
    "check_cols(\"title\")\n",
    "check_cols(\"shares_held\")\n",
    "check_cols(\"percent_owned\")"
   ]
  },
  {
   "cell_type": "markdown",
   "id": "14c07bec",
   "metadata": {},
   "source": [
    "It looks like all 4 pairs of columns have some rows with different values so the columns will remain separate for now."
   ]
  },
  {
   "cell_type": "code",
   "execution_count": null,
   "id": "58d12067",
   "metadata": {},
   "outputs": [],
   "source": [
    "# add a column with the percentage change in price\n",
    "merged_df['percent_change'] = (merged_df['sale_price'] - merged_df['purchase_price']) / merged_df['purchase_price'] * 100\n",
    "\n",
    "# add a column that accounts for the amount of time elapsed\n",
    "# percent_change_time is just the percentage change in price divided by the number of days\n",
    "merged_df['time_elapsed'] = merged_df['sell_date'] - merged_df['purchase_date']\n",
    "merged_df['time_elapsed_days'] = merged_df['time_elapsed'].dt.days\n",
    "merged_df['percent_change_time'] = merged_df['percent_change'] / merged_df['time_elapsed_days']\n",
    "\n",
    "# remove rows where percent_change_time equals infinity\n",
    "'''\n",
    "this could happen for a number of reasons, the main one being some stocks have a\n",
    "purchase_price of 0. presumably because the insider selling the stock created the \n",
    "company. so they started out owning all the shares without ever buying them.\n",
    "'''\n",
    "merged_df = merged_df[~merged_df['percent_change_time'].isin([np.inf, -np.inf])]"
   ]
  },
  {
   "cell_type": "code",
   "execution_count": null,
   "id": "1d32b72d",
   "metadata": {},
   "outputs": [
    {
     "name": "stdout",
     "output_type": "stream",
     "text": [
      "29596 rows remain out of 508148. That's only 5.82%.\n"
     ]
    }
   ],
   "source": [
    "# lets see how much of the origonal data is left\n",
    "print(f\"{np.shape(merged_df)[0]} rows remain out of {np.shape(df)[0]}. That's only {round(((np.shape(merged_df)[0] / np.shape(df)[0]) * 100),2)}%.\")"
   ]
  },
  {
   "cell_type": "markdown",
   "id": "59cc789d",
   "metadata": {},
   "source": [
    "This makes sense becasue we only want data where we know how much the insider paid for the stock so we can calculate how much they made on the sale, and not all the trades in our data set are buy / sell pairs."
   ]
  },
  {
   "cell_type": "code",
   "execution_count": null,
   "id": "cdc7831f",
   "metadata": {},
   "outputs": [],
   "source": [
    "# saveing the processed data to a csv file so I don't have to re-run all of the code above\n",
    "merged_df.to_csv(\"data/openinsider_processed_data.csv\")"
   ]
  },
  {
   "cell_type": "code",
   "execution_count": null,
   "id": "43c787dd",
   "metadata": {},
   "outputs": [],
   "source": [
    "# import the processed data\n",
    "df = pd.read_csv('data/openinsider_processed_data.csv')"
   ]
  },
  {
   "cell_type": "code",
   "execution_count": null,
   "id": "d02afb5b",
   "metadata": {},
   "outputs": [],
   "source": [
    "import seaborn as sns\n",
    "import matplotlib.pyplot as plt"
   ]
  },
  {
   "cell_type": "code",
   "execution_count": null,
   "id": "21f4a25c",
   "metadata": {},
   "outputs": [
    {
     "data": {
      "image/png": "[encoded data removed]",
      "text/plain": [
       "<Figure size 640x480 with 1 Axes>"
      ]
     },
     "metadata": {},
     "output_type": "display_data"
    }
   ],
   "source": [
    "def print_dot_plt():\n",
    "    sns.set_style(\"whitegrid\")\n",
    "    sns.set_palette(\"deep\")\n",
    "\n",
    "    sns.stripplot(x=\"percent_change_time\", data=df, jitter=True, color=\"blue\")\n",
    "    sns.despine(left=True)\n",
    "\n",
    "    plt.xlabel(\"Percent Change Time\")\n",
    "    plt.title(\"Dot Plot of Percent Change Time\")\n",
    "    plt.show()\n",
    "    \n",
    "print_dot_plt()"
   ]
  },
  {
   "cell_type": "code",
   "execution_count": null,
   "id": "2d30219a",
   "metadata": {},
   "outputs": [
    {
     "data": {
      "text/html": [
       "<div>\n",
       "<style scoped>\n",
       "    .dataframe tbody tr th:only-of-type {\n",
       "        vertical-align: middle;\n",
       "    }\n",
       "\n",
       "    .dataframe tbody tr th {\n",
       "        vertical-align: top;\n",
       "    }\n",
       "\n",
       "    .dataframe thead th {\n",
       "        text-align: right;\n",
       "    }\n",
       "</style>\n",
       "<table border=\"1\" class=\"dataframe\">\n",
       "  <thead>\n",
       "    <tr style=\"text-align: right;\">\n",
       "      <th></th>\n",
       "      <th>Unnamed: 0</th>\n",
       "      <th>sell_date</th>\n",
       "      <th>ticker</th>\n",
       "      <th>company_name_atos</th>\n",
       "      <th>owner_name</th>\n",
       "      <th>title_atos</th>\n",
       "      <th>sale_price</th>\n",
       "      <th>shared_sold</th>\n",
       "      <th>shares_held_atos</th>\n",
       "      <th>percent_owned_atos</th>\n",
       "      <th>...</th>\n",
       "      <th>title_atop</th>\n",
       "      <th>purchase_price</th>\n",
       "      <th>shared_purchased</th>\n",
       "      <th>shares_held_atop</th>\n",
       "      <th>percent_owned_atop</th>\n",
       "      <th>value_of_purchase</th>\n",
       "      <th>percent_change</th>\n",
       "      <th>time_elapsed</th>\n",
       "      <th>time_elapsed_days</th>\n",
       "      <th>percent_change_time</th>\n",
       "    </tr>\n",
       "  </thead>\n",
       "  <tbody>\n",
       "    <tr>\n",
       "      <th>26074</th>\n",
       "      <td>518435</td>\n",
       "      <td>2021-07-09 12:15:13</td>\n",
       "      <td>CLSK</td>\n",
       "      <td>Cleanspark, Inc.</td>\n",
       "      <td>McNeill Larry</td>\n",
       "      <td>Dir</td>\n",
       "      <td>18.86</td>\n",
       "      <td>-15000.0</td>\n",
       "      <td>148256.0</td>\n",
       "      <td>-9.0</td>\n",
       "      <td>...</td>\n",
       "      <td>Dir</td>\n",
       "      <td>0.2</td>\n",
       "      <td>83333.0</td>\n",
       "      <td>583333.0</td>\n",
       "      <td>17.0</td>\n",
       "      <td>16667.0</td>\n",
       "      <td>9330.0</td>\n",
       "      <td>1 days 17:21:14</td>\n",
       "      <td>1</td>\n",
       "      <td>9330.0</td>\n",
       "    </tr>\n",
       "  </tbody>\n",
       "</table>\n",
       "<p>1 rows × 23 columns</p>\n",
       "</div>"
      ],
      "text/plain": [
       "       Unnamed: 0            sell_date ticker company_name_atos  \\\n",
       "26074      518435  2021-07-09 12:15:13   CLSK  Cleanspark, Inc.   \n",
       "\n",
       "          owner_name title_atos  sale_price  shared_sold  shares_held_atos  \\\n",
       "26074  McNeill Larry        Dir       18.86     -15000.0          148256.0   \n",
       "\n",
       "       percent_owned_atos  ...  title_atop purchase_price shared_purchased  \\\n",
       "26074                -9.0  ...         Dir            0.2          83333.0   \n",
       "\n",
       "      shares_held_atop  percent_owned_atop  value_of_purchase  percent_change  \\\n",
       "26074         583333.0                17.0            16667.0          9330.0   \n",
       "\n",
       "          time_elapsed  time_elapsed_days  percent_change_time  \n",
       "26074  1 days 17:21:14                  1               9330.0  \n",
       "\n",
       "[1 rows x 23 columns]"
      ]
     },
     "execution_count": 34,
     "metadata": {},
     "output_type": "execute_result"
    }
   ],
   "source": [
    "# it looks like we have a single outlying point. lets double check\n",
    "df[df['percent_change_time'] > 8000]"
   ]
  },
  {
   "cell_type": "code",
   "execution_count": null,
   "id": "f1780eee",
   "metadata": {},
   "outputs": [
    {
     "data": {
      "image/png": "[encoded data removed]",
      "text/plain": [
       "<Figure size 640x480 with 1 Axes>"
      ]
     },
     "metadata": {},
     "output_type": "display_data"
    }
   ],
   "source": [
    "# remove the outlier\n",
    "df = df[df['percent_change_time'] < 8000]\n",
    "\n",
    "# plot again\n",
    "print_dot_plt()"
   ]
  },
  {
   "cell_type": "markdown",
   "id": "5348dbe2",
   "metadata": {},
   "source": [
    "That’s much better, but I want to get a closer look at the bulk of the data."
   ]
  },
  {
   "cell_type": "code",
   "execution_count": null,
   "id": "cc619bb5",
   "metadata": {},
   "outputs": [
    {
     "data": {
      "image/png": "[encoded data removed]",
      "text/plain": [
       "<Figure size 640x480 with 1 Axes>"
      ]
     },
     "metadata": {},
     "output_type": "display_data"
    }
   ],
   "source": [
    "# remove more outliers\n",
    "df = df[df['percent_change_time'] < 200]\n",
    "\n",
    "# plot again\n",
    "print_dot_plt()"
   ]
  },
  {
   "cell_type": "markdown",
   "id": "c0382dac",
   "metadata": {},
   "source": [
    "From a simple visual examination we can see that the data is right skewed. Put simply, this means that on average insiders are making more money than they are losing.\n",
    "\n",
    "Next, I would like to see if factors like title (CEO, CFO, ect.) have a statistically significant impact on percent_change_time. If this is the case, I could write code to scrape http://www.openinsider.com/ daily and buy the stocks that have the highest chance of going up."
   ]
  },
  {
   "cell_type": "code",
   "execution_count": null,
   "id": "17e23553",
   "metadata": {},
   "outputs": [],
   "source": [
    "# re-import the processed data outliers and all\n",
    "df = pd.read_csv('data/openinsider_processed_data.csv')\n",
    "\n",
    "# remove major outliers\n",
    "df = df[df['percent_change_time'] < 8000]\n",
    "\n",
    "# more data massaging\n",
    "\n",
    "# drop rows with missing values\n",
    "df = df.dropna()\n",
    "\n",
    "# replace infinite values with NaN\n",
    "df.replace([np.inf, -np.inf], np.nan, inplace=True)\n",
    "\n",
    "# drop rows with NaN values\n",
    "df = df.dropna()\n",
    "\n",
    "# make all the cols the right type\n",
    "df[\"sell_date\"] = pd.to_datetime(df[\"sell_date\"])\n",
    "df[\"ticker\"] = df[\"ticker\"].astype(\"category\")\n",
    "df[\"company_name_atos\"] = df[\"company_name_atos\"].astype(\"category\")\n",
    "df[\"owner_name\"] = df[\"owner_name\"].astype(\"category\")\n",
    "df[\"title_atos\"] = df[\"title_atos\"].astype(\"category\")\n",
    "df[\"purchase_date\"] = pd.to_datetime(df[\"purchase_date\"])\n",
    "df[\"company_name_atop\"] = df[\"company_name_atop\"].astype(\"category\")\n",
    "df[\"title_atop\"] = df[\"title_atop\"].astype(\"category\")"
   ]
  },
  {
   "cell_type": "code",
   "execution_count": null,
   "id": "2dbbfe14",
   "metadata": {},
   "outputs": [],
   "source": [
    "import statsmodels.api as sm\n",
    "from sklearn.linear_model import LinearRegression\n",
    "from sklearn.preprocessing import LabelEncoder"
   ]
  },
  {
   "cell_type": "code",
   "execution_count": null,
   "id": "957f34e5",
   "metadata": {},
   "outputs": [
    {
     "name": "stdout",
     "output_type": "stream",
     "text": [
      "        Column Name  R-squared\n",
      "percent_change_time     1.0000\n",
      "  time_elapsed_days     0.0005\n",
      " percent_owned_atos     0.0002\n",
      "   shared_purchased     0.0001\n",
      "         sale_price     0.0000\n",
      "        shared_sold     0.0000\n",
      "   shares_held_atos     0.0000\n",
      "      value_of_sale     0.0000\n",
      "     purchase_price     0.0000\n",
      "   shares_held_atop     0.0000\n",
      " percent_owned_atop     0.0000\n",
      "  value_of_purchase     0.0000\n",
      "         title_atop    -0.0009\n",
      "         owner_name    -0.0009\n",
      "             ticker    -0.0011\n",
      "  company_name_atop    -0.0011\n"
     ]
    }
   ],
   "source": [
    "# perform regression on the continuous variables\n",
    "# create a list of columns to exclude from regression\n",
    "exclude_cols = ['Unnamed: 0', 'sell_date', 'ticker', 'company_name_atos', 'owner_name', 'title_atos', \n",
    "                'purchase_date', 'company_name_atop', 'title_atop', 'time_elapsed', 'percent_change']\n",
    "\n",
    "# loop through each column and perform linear regression\n",
    "results = []\n",
    "for col in df.columns:\n",
    "    if col not in exclude_cols:\n",
    "        X = df[col]\n",
    "        y = df['percent_change_time']\n",
    "        X = sm.add_constant(X)  # add constant term to X variable\n",
    "        model = sm.OLS(y, X).fit()\n",
    "        r_squared = round(model.rsquared, 4)\n",
    "        results.append({'Column Name': col, 'R-squared': r_squared})\n",
    "\n",
    "# perform regression on the categorical variables\n",
    "def regress_on_categorical_var(in_str):\n",
    "    # split the data into training and testing sets\n",
    "    train_df = df.sample(frac=0.8, random_state=42)\n",
    "    test_df = df.drop(train_df.index)\n",
    "\n",
    "    # encode categorical feature to numeric\n",
    "    encoder = LabelEncoder()\n",
    "    encoded_col = in_str + '_encoded'\n",
    "    encoder.fit(df[in_str])\n",
    "    train_df[encoded_col] = encoder.transform(train_df[in_str])\n",
    "    test_df[encoded_col] = encoder.transform(test_df[in_str])\n",
    "\n",
    "    # create the linear regression model\n",
    "    model = LinearRegression()\n",
    "\n",
    "    # train the model\n",
    "    model.fit(train_df[[encoded_col]], train_df['percent_change_time'])\n",
    "\n",
    "    # predict on the test data\n",
    "    predictions = model.predict(test_df[[encoded_col]])\n",
    "\n",
    "    # calculate R-squared\n",
    "    r_squared = round(model.score(test_df[[encoded_col]], test_df['percent_change_time']), 4)\n",
    "    results.append({'Column Name': in_str, 'R-squared': r_squared})\n",
    "\n",
    "# call the regression function on categorical variables\n",
    "regress_on_categorical_var('title_atop')\n",
    "regress_on_categorical_var('ticker')\n",
    "regress_on_categorical_var('company_name_atop')\n",
    "regress_on_categorical_var('owner_name')\n",
    "\n",
    "# convert the results to a DataFrame and print as a table\n",
    "results_df = pd.DataFrame(results)\n",
    "results_df = results_df.sort_values(by='R-squared', ascending=False)\n",
    "results_df = results_df.reset_index(drop=True)\n",
    "print(results_df.to_string(index=False))"
   ]
  },
  {
   "cell_type": "markdown",
   "id": "d54b4afe",
   "metadata": {},
   "source": [
    "The results of our analysis show that none of these values are statistically significant so we can't make a regression model to predict which insider buys will yield the highest return on investment. This throws a wrench in my plans as I can't make a simulation of a year of trading using a model that doesn't exist. However, we can still calculate the average return on investment made by insiders over the course of a year. While this won't be an actionable investment strategy, it will show whether or not following insider trades is a good strategy in general."
   ]
  },
  {
   "cell_type": "code",
   "execution_count": null,
   "id": "d1dcae0b",
   "metadata": {},
   "outputs": [
    {
     "name": "stdout",
     "output_type": "stream",
     "text": [
      "The average insider makes a 386.82% return on investment in the average year.\n",
      "This means that after an average year, the average insider can turn $1,000 into $4,868.16.\n"
     ]
    }
   ],
   "source": [
    "# get the average daily returns for the whole data set\n",
    "avg_daily_return = (np.average(df['percent_change_time']) / 100)\n",
    "\n",
    "# get the returns after 1 year\n",
    "starting_cash = 1000\n",
    "avg_yrly_roe = (1 + avg_daily_return)**365 - 1\n",
    "final_cash = (1 + avg_yrly_roe) * starting_cash\n",
    "\n",
    "print(f'The average insider makes a {(avg_yrly_roe * 100):,.2f}% return on investment in the average year.')\n",
    "print(f'This means that after an average year, the average insider can turn ${starting_cash:,} into ${final_cash:,.2f}.')"
   ]
  },
  {
   "cell_type": "code",
   "execution_count": null,
   "id": "9ca55af4",
   "metadata": {},
   "outputs": [
    {
     "name": "stdout",
     "output_type": "stream",
     "text": [
      "The average insider made a 128.76% return on investment in 2015.\n",
      "This means that from 2015 to 2016, the average insider could turn $1,000 into $2,287.64.\n"
     ]
    }
   ],
   "source": [
    "'''\n",
    "truncate the data frame to include the same date range\n",
    "as was used in the sentiment analysis simulation above\n",
    "(2015-01-02 through 2016-01-04)\n",
    "'''\n",
    "df = df[(df['sell_date'] >= pd.to_datetime('2015-01-02'))]\n",
    "df = df[(df['sell_date'] <= pd.to_datetime('2016-01-05'))]\n",
    "\n",
    "# re-run the insider information simulation\n",
    "\n",
    "# get the average daily returns\n",
    "avg_daily_return = (np.average(df['percent_change_time']) / 100)\n",
    "\n",
    "# get the returns after 1 year (and 2 days just so things are fair)\n",
    "starting_cash = 1000\n",
    "avg_yrly_roe = (1 + avg_daily_return)**367 - 1\n",
    "final_cash = (1 + avg_yrly_roe) * starting_cash\n",
    "\n",
    "print(f'The average insider made a {(avg_yrly_roe * 100):,.2f}% return on investment in 2015.')\n",
    "print(f'This means that from 2015 to 2016, the average insider could turn ${starting_cash:,} into ${final_cash:,.2f}.')"
   ]
  },
  {
   "cell_type": "markdown",
   "id": "d8d7bb1a",
   "metadata": {},
   "source": [
    "## Results II - Insider Information\n",
    "I calculated the annualized return on investment (ROI) for each insider transaction in the dataset, and then computed the mean across all transactions. The results showed that the average insider makes a 391.06\\% ROI in the average year. This implies that an investor following insider trades could turn \\\\$1,000 at the beginning of the year into \\\\$4,910.56 at the end of the year.\n",
    "\n",
    "I also calculated the ROI for the same date range as was used in the sentiment analysis simulation above (2015-01-02 through 2016-01-04). These results were more modest. During that time frame, the average insider made a 128.76\\% return on investment. This means that from 2015 to 2016, the average insider could turn \\\\$1,000 into \\\\$2,287.64.\n",
    "\n",
    "While this result is impressive, it's important to remember that this is not a practical plan. It's merely the average return achieved by insiders over the course of an average year. This data shows that following insider trades is a promising investment strategy, to be sure, but further research is required to turn this data into an actionable investment strategy.\n",
    "\n",
    "For example, one might want to look into the timing, frequency, and magnitude of insider trades, as well as cluster buys (when multiple insiders buy the same asset). Additionally, The correlation between the performance of insider trades with other indicators, such as earnings reports, analyst ratings, and market trends could also be investigated. By doing so, one might be able to identify patterns and signals that can help investors make more informed and profitable decisions."
   ]
  },
  {
   "cell_type": "markdown",
   "id": "a982415f",
   "metadata": {},
   "source": [
    "## Methods III - Control\n",
    "The baseline strategy is a buy-and-hold approach that invests in the DJIA index. Below is a simulation of buying into the DOW on our start date (2015-01-02), and selling on our end date (2016-01-05)."
   ]
  },
  {
   "cell_type": "code",
   "execution_count": null,
   "id": "0133f2f1",
   "metadata": {},
   "outputs": [
    {
     "name": "stdout",
     "output_type": "stream",
     "text": [
      "If you invested $1,000 in the DOW on 2015-01-02, and sold your stock on 2016-01-05 you would end up with $962.18.\n",
      "That’s a loss of $37.82 or -3.78%.\n"
     ]
    }
   ],
   "source": [
    "# fetch DJI data\n",
    "dji = yf.Ticker('^DJI')\n",
    "data = dji.history(start='2015-01-02',end='2016-01-05')\n",
    "\n",
    "# calculate percentage_change\n",
    "dji_open_2015 = data.head(1)['Open'][0]\n",
    "dji_close_2016 = data.tail(1)['Close'][0]\n",
    "percentage_change = ((dji_close_2016 - dji_open_2015) / dji_open_2015) * 100\n",
    "\n",
    "# get the returns after 1 year (and 2 days just so things are fair)\n",
    "starting_cash = 1000\n",
    "final_cash = (1 + (percentage_change / 100)) * starting_cash\n",
    "\n",
    "print(f'If you invested ${starting_cash:,} in the DOW on 2015-01-02, and sold your stock on 2016-01-05 you would end up with ${final_cash:,.2f}.')\n",
    "print(f'That’s a loss of ${np.abs(final_cash - starting_cash):.2f} or {percentage_change:.2f}%.')"
   ]
  },
  {
   "cell_type": "markdown",
   "id": "e999b6be",
   "metadata": {},
   "source": [
    "## Results III - Control"
   ]
  },
  {
   "cell_type": "markdown",
   "id": "654c6cdf",
   "metadata": {},
   "source": [
    "If you invested \\\\$1,000 in the DOW on 2015-01-02, and sold your stock on 2016-01-05 you would end up with \\\\$962.18. That’s a loss of \\\\$37.82 or -3.78\\%. THis makes the control group the by far worst of the three strategies as you end up losing money."
   ]
  },
  {
   "cell_type": "markdown",
   "id": "a27a57d5",
   "metadata": {},
   "source": [
    "## Conclusion\n",
    "This paper set out to compare the performance of two data-driven investment strategies -- sentiment analysis of news headlines and insider trading -- with a baseline buy-and-hold strategy that invests in the DOW. Over the course of one year, the results of the three strategies were as follows:\n",
    "\n",
    "1. Sentiment Analysis: The random forest classifier based model, which predicted the direction of the DOW based on news headlines, produced a remarkable 140.74% return on investment. By turning an initial investment of \\\\$1,000 into \\\\$2,407.38, this strategy showed great promise. However, further research is needed to validate the model's accuracy, explore more computationally efficient algorithms, and investigate the potential of options trading to enhance returns.\n",
    "\n",
    "1. Insider Trading: Although no actionable regression model could be developed from the available data, the average annual return on investment for insiders was found to be 128.76%. This suggests that following insider trades might be a profitable strategy. However, additional research is required to identify patterns, signals, and correlations with other market indicators that could help investors make better-informed decisions.\n",
    "\n",
    "1. Control (Buy-and-Hold): The baseline strategy of investing in the DOW resulted in a loss of 3.78% over the one-year period. This makes the control strategy the least effective among the three, as it failed to generate a positive return on investment.\n",
    "\n",
    "In conclusion, both data-driven strategies -- sentiment analysis of news headlines and insider trading -- demonstrated the potential to outperform the buy-and-hold strategy, albeit with different levels of practicality and required research. Sentiment analysis, while yielding impressive results, needs further validation and exploration of more sophisticated models. Insider trading, on the other hand, requires the development of an actionable strategy based on patterns and correlations with other market indicators.\n",
    "\n",
    "Future research in this area could focus on refining the sentiment analysis model, exploring more computationally efficient algorithms, and investigating the potential of options trading to enhance returns. Additionally, further studies could delve into the development of actionable insider trading strategies by examining timing, frequency, magnitude, and correlations with other market indicators. By doing so, investors may be able to develop more informed and profitable data-driven investment strategies that exploit market inefficiencies and generate superior returns."
   ]
  },
  {
   "cell_type": "markdown",
   "id": "7e186f4e",
   "metadata": {},
   "source": [
    "## References"
   ]
  },
  {
   "cell_type": "code",
   "execution_count": null,
   "id": "cf82b0c9",
   "metadata": {},
   "outputs": [
    {
     "name": "stdout",
     "output_type": "stream",
     "text": [
      "Bollen, J., Mao, H., & Zeng, X. (2011). Twitter mood predicts the stock market. Journal of computational science, 2(1), 1-8.\n",
      "\n",
      "Jaffe, J. F. (1974). Special information and insider trading. The Journal of Business, 47(3), 410-428.\n",
      "\n",
      "Lakonishok, J., & Lee, I. (2001). Are insider trades informative?. The Review of Financial Studies, 14(1), 79-111.\n",
      "\n",
      "Liu, B., & Zhang, L. (2012). A survey of opinion mining and sentiment analysis. In Mining text data (pp. 415-463). Springer, Boston, MA.\n",
      "\n",
      "Mitra, M. (2021, May 20). Robinhood and free trades: What every investor needs to know. Money. Retrieved April 12, 2023, from https://money.com/robinhood-free-trades/\n",
      "\n",
      "Mittal, A., & Goel, A. (2012). Stock prediction using twitter sentiment analysis. Standford University, CS229 (2011 http://cs229.stanford.edu/proj2011/GoelMittal-StockMarketPredictionUsingTwitterSentimentAnalysis.pdf), 15, 2352.Inci, A. C., Narayanan, M. P., & Seyhun, H. N. (2017). Gender differences in executives’ access to information. Journal of Financial and Quantitative Analysis, 52(3), 991-1016.\n",
      "\n",
      "Patil, R. (2021, May 4). Stock price movement based on news headline. Analytics Vidhya. Retrieved April 10, 2023, from https://www.analyticsvidhya.com/blog/2021/05/stock-price-movement-based-on-news-headline/\n",
      "\n",
      "Piotroski, J. D., & Roulstone, D. T. (2005). Do insider trades reflect both contrarian beliefs and superior knowledge about future cash flow realizations?. Journal of Accounting and Economics, 39(1), 55-81.\n",
      "\n",
      "Porter, K. (2022, July 7). Here are all the fees you'll pay when using the Robinhood app - and how to avoid them. Business Insider. Retrieved April 12, 2023, from https://www.businessinsider.com/personal-finance/robinhood-fees\n",
      "\n",
      "Tetlock, P. C. (2007). Giving content to investor sentiment: The role of media in the stock market. The Journal of finance, 62(3), 1139-1168.\n",
      "\n",
      "sd3v. (2023). An openinsider scraper written in python. GitHub. Retrieved April 12, 2023, from https://github.com/sd3v/openinsiderData \n",
      "\n"
     ]
    }
   ],
   "source": [
    "references = [\n",
    "    'Liu, B., & Zhang, L. (2012). A survey of opinion mining and sentiment analysis. In Mining text data (pp. 415-463). Springer, Boston, MA.',\n",
    "    'Tetlock, P. C. (2007). Giving content to investor sentiment: The role of media in the stock market. The Journal of finance, 62(3), 1139-1168.',\n",
    "    'Bollen, J., Mao, H., & Zeng, X. (2011). Twitter mood predicts the stock market. Journal of computational science, 2(1), 1-8.',\n",
    "    'Mittal, A., & Goel, A. (2012). Stock prediction using twitter sentiment analysis. Standford University, CS229 (2011 http://cs229.stanford.edu/proj2011/GoelMittal-StockMarketPredictionUsingTwitterSentimentAnalysis.pdf), 15, 2352.'\n",
    "    'Inci, A. C., Narayanan, M. P., & Seyhun, H. N. (2017). Gender differences in executives’ access to information. Journal of Financial and Quantitative Analysis, 52(3), 991-1016.',\n",
    "    'Jaffe, J. F. (1974). Special information and insider trading. The Journal of Business, 47(3), 410-428.',\n",
    "    'Lakonishok, J., & Lee, I. (2001). Are insider trades informative?. The Review of Financial Studies, 14(1), 79-111.',\n",
    "    'Piotroski, J. D., & Roulstone, D. T. (2005). Do insider trades reflect both contrarian beliefs and superior knowledge about future cash flow realizations?. Journal of Accounting and Economics, 39(1), 55-81.',\n",
    "    'Patil, R. (2021, May 4). Stock price movement based on news headline. Analytics Vidhya. Retrieved April 10, 2023, from https://www.analyticsvidhya.com/blog/2021/05/stock-price-movement-based-on-news-headline/',\n",
    "    'Porter, K. (2022, July 7). Here are all the fees you\\'ll pay when using the Robinhood app - and how to avoid them. Business Insider. Retrieved April 12, 2023, from https://www.businessinsider.com/personal-finance/robinhood-fees',\n",
    "    'Mitra, M. (2021, May 20). Robinhood and free trades: What every investor needs to know. Money. Retrieved April 12, 2023, from https://money.com/robinhood-free-trades/',\n",
    "    'sd3v. (2023). An openinsider scraper written in python. GitHub. Retrieved April 12, 2023, from https://github.com/sd3v/openinsiderData '\n",
    "]\n",
    "\n",
    "alphabetized_references = sorted(references)\n",
    "\n",
    "for _, item in enumerate(alphabetized_references):\n",
    "    print(item)\n",
    "    print()"
   ]
  }
 ],
 "metadata": {
  "kernelspec": {
   "display_name": "Python 3 (ipykernel)",
   "language": "python",
   "name": "python3"
  },
  "language_info": {
   "codemirror_mode": {
    "name": "ipython",
    "version": 3
   },
   "file_extension": ".py",
   "mimetype": "text/x-python",
   "name": "python",
   "nbconvert_exporter": "python",
   "pygments_lexer": "ipython3",
   "version": "3.10.12"
  }
 },
 "nbformat": 4,
 "nbformat_minor": 5
}
